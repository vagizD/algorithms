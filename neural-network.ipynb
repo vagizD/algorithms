{
 "cells": [
  {
   "cell_type": "markdown",
   "id": "6e5fa033",
   "metadata": {},
   "source": [
    "# Neural Network\n",
    "\n",
    "Below is my understanding and realisation of Deep NN. Knowledge and dataset taken from [deeplearning.ai course](https://www.deeplearning.ai/courses/deep-learning-specialization/)."
   ]
  },
  {
   "cell_type": "code",
   "execution_count": 1,
   "id": "aeae86a3",
   "metadata": {},
   "outputs": [],
   "source": [
    "import numpy as np\n",
    "import matplotlib.pyplot as plt\n",
    "from copy import deepcopy"
   ]
  },
  {
   "cell_type": "markdown",
   "id": "2868e2a5",
   "metadata": {},
   "source": [
    "## Model Scheme"
   ]
  },
  {
   "cell_type": "markdown",
   "id": "972e0f51",
   "metadata": {},
   "source": [
    "<img src='png/nn-scheme.jpg'>"
   ]
  },
  {
   "cell_type": "markdown",
   "id": "4ce9cc49",
   "metadata": {},
   "source": [
    "### 1. Forward Propagation\n",
    "\n",
    "Forward Propagation has $L$ layers.\n",
    "\n",
    "Activation functions:\n",
    "\n",
    "- **Sigmoid**: $\\displaystyle\\sigma(z) = \\frac{1}{1 + e^{-Z}}$ - used for last layer (prediction).\n",
    "\n",
    "- **ReLU**: $\\displaystyle relu(z) = max(0,z)$ - used for hidden layers.\n",
    "\n",
    "Reccurent relation for computing forward propagation (superscript ~ layer's number):\n",
    "\n",
    "$$Z^{[i]} = W^{[i]}A^{[i-1]} + b^{[i]}$$\n",
    "\n",
    "$$A^{[i]} = a^{[i]}(Z^{[i]}), \\ \\ A^{[0]} = X$$\n",
    "\n",
    "where $a^{[l]}$ is activation function of layer $l$, either ReLU or sigmoid.\n",
    "\n",
    "### 2. Cost (MLE)\n",
    "\n",
    "Given input vector $x$, we want to estimate probability of observing output value $y$, which is $p(y|x) = \\widehat{y}$. It means that $p(y = 0|x) = \\widehat{y}$ and $p(y = 1|x) = 1 - \\widehat{y}$ (or vice versa). It could be shown that probability distribution $p(y|x) = \\widehat{y}^y \\times (1 - \\widehat{y}) ^{1-y}$ is indeed a probability distribution and produces needed values for $y = 0$ and $y = 1$. Thus, maximizing $p(y|x)$ is the same as minimizing $-\\log p(y|x)$, which is easier to compute. $-\\log p(y|x) = - (\\widehat{y}\\log y + (1-\\widehat{y})\\log(1 - y))$.\n",
    "\n",
    "That is, given input vector $X$ of **independently and identically distributed** random variables (which are vectors, and thus $X$ is matrix), we want to estimate probability of observing output vector $Y$, which is $p(Y|X)$.\n",
    "\n",
    "$$p(Y|X) = \\prod_{i=1}^{n} p(y_i|x_i)$$\n",
    "$$-\\log p(Y|X) = \\sum_{i=1}^{n} \\log p(y_i|x_i)$$\n",
    "\n",
    "$$J(\\widehat{Y}, Y) = - \\frac{1}{n} \\sum_{i=1}^{n} \\widehat{y}_i\\log y_i + (1-\\widehat{y}_i)\\log(1 - y_i)$$\n",
    "\n",
    "### 3. Backward Propagation"
   ]
  },
  {
   "cell_type": "markdown",
   "id": "20b47b46",
   "metadata": {},
   "source": [
    "<img src='png/forw-back-nn.jpg'>"
   ]
  },
  {
   "cell_type": "markdown",
   "id": "2a00f68a",
   "metadata": {},
   "source": [
    "Consider layer $l < L$.\n",
    "\n",
    "It is propagated forward as: $Z^{[l]} = W^{[l]}A^{[l-1]} + b^{[l]}; A^{[l]} = a^{[l]}(Z^{[l]})$. Assume you have already calculated $dZ^{[l]}$ and need to get $dW^{[l]}, db^{[l]}, dA^{[l-1]}$.\n",
    "\n",
    "$$dW^{[l]} = \\frac{\\partial J}{\\partial W^{[l]}} = \\frac{\\partial J}{\\partial Z^{[l]}} (\\text{which is calculated on previous step}) \\times \\frac{\\partial Z^{[l]}}{\\partial W^{[l]}} = \\frac{1}{n}dZ^{[l]} A^{[l-1]T}$$\n",
    "\n",
    "$$db^{[l]} = \\frac{\\partial J}{\\partial b^{[l]}} = \\frac{\\partial J}{\\partial Z^{[l]}} = \\frac{1}{m}\\sum_{i=1}^{n} dZ^{[l](i)}$$\n",
    "\n",
    "$$dA^{[l-1]} = \\frac{\\partial J}{\\partial A^{[l-1]}} = \\frac{\\partial J}{\\partial Z^{[l]}} \\times \\frac{\\partial Z^{[l]}}{\\partial A^{[l-1]}} = W^{[l] T} dZ^{[l]}$$"
   ]
  },
  {
   "cell_type": "markdown",
   "id": "1579b4b3",
   "metadata": {},
   "source": [
    "Computing $dZ^{[l]}$ gives opportunity to **update weights** in current layer $l$ and continue with layer $l-1$.\n",
    "\n",
    "$$dZ^{[l]} = \\frac{\\partial J}{Z^{[l]}} = \\frac{\\partial J}{\\partial A^{[l]}} \\times \\frac{\\partial A^{[l]}}{\\partial Z^{[l]}} = dA^{[l]} \\times a^{[l]'}(Z)$$\n",
    "\n",
    "where $a^{[l]'}(Z)$ is derivative of activation function $a(Z)$ of layer $l$ with respect to $Z$. We need one for both ReLU and sigmoid:\n",
    "\n",
    "- **ReLU**: $relu'(z) = [z > 0]$.\n",
    "- **Sigmoid**: $\\sigma'(z) = \\sigma(z) (1 - \\sigma(z))$"
   ]
  },
  {
   "cell_type": "markdown",
   "id": "69196065",
   "metadata": {},
   "source": [
    "However, **to initialize the chain** we need to compute $dA^{[l]}$ first. For $l = L$ (check with two lines of calculus):\n",
    "\n",
    "$$\\frac{\\partial  J(a^{[l](i)}, y^{(i)})}{\\partial a^{[l](i)}} = - \\frac{y^{(i)}}{a^{[l](i)}} + \\frac{1 - y^{(i)}}{1 - a^{[l](i)}}$$"
   ]
  },
  {
   "cell_type": "markdown",
   "id": "270226ed",
   "metadata": {},
   "source": [
    "## Activation functions"
   ]
  },
  {
   "cell_type": "code",
   "execution_count": 2,
   "id": "2c3a1e1d",
   "metadata": {},
   "outputs": [],
   "source": [
    "def sigmoid(Z):\n",
    "    return 1 / (1 + np.exp(-Z))\n",
    "\n",
    "def sigmoid_derivative(dA, Z):\n",
    "    s = sigmoid(Z)\n",
    "    return dA * s * (1 - s)"
   ]
  },
  {
   "cell_type": "code",
   "execution_count": 3,
   "id": "847d5e81",
   "metadata": {},
   "outputs": [],
   "source": [
    "def relu(Z):\n",
    "    return np.maximum(0, Z)\n",
    "\n",
    "def relu_derivative(dA, Z):\n",
    "    dZ = np.array(dA, copy=True)\n",
    "    \n",
    "    dZ[Z <= 0] = 0\n",
    "    \n",
    "    return dZ"
   ]
  },
  {
   "cell_type": "markdown",
   "id": "fb668ee5",
   "metadata": {},
   "source": [
    "## Neural Network Class"
   ]
  },
  {
   "cell_type": "code",
   "execution_count": 4,
   "id": "275e8743",
   "metadata": {},
   "outputs": [],
   "source": [
    "class nn_model:\n",
    "    def __init__(self, layer_sizes=[5, 5, 5], learning_rate=0.01, n_epochs=2500, print_cost=True):\n",
    "        self.learning_rate_ = learning_rate\n",
    "        self.L_ = len(layer_sizes) - 1 # number of layers (except input layer)\n",
    "        self.layer_sizes_ = deepcopy(layer_sizes)\n",
    "        self.n_epochs_ = n_epochs\n",
    "        self.print_cost = print_cost\n",
    "        \n",
    "        self.W_ = list()\n",
    "        self.b_ = list()\n",
    "        \n",
    "        self.activation_f_ = {'sigmoid': sigmoid, 'relu': relu}\n",
    "        self.activation_f_derivative_ = {'sigmoid': sigmoid_derivative, 'relu': relu_derivative}\n",
    "        \n",
    "    # Initialization\n",
    "    def _initialize(self, w_coef=0.01):\n",
    "        np.random.seed(1)\n",
    "        \n",
    "        for i in range(self.L_):\n",
    "            \n",
    "            shape_W = (self.layer_sizes_[i + 1], self.layer_sizes_[i])\n",
    "            self.W_.append(np.random.randn(*shape_W) / np.sqrt(self.layer_sizes_[i]))\n",
    "            \n",
    "            shape_b = (self.layer_sizes_[i + 1], 1)\n",
    "            self.b_.append(np.zeros(shape_b))\n",
    "        \n",
    "    # Forward propagation\n",
    "    def _forward_step(self, A_prev, W, b, activation):\n",
    "        Z = np.dot(W, A_prev) + b\n",
    "        A = self.activation_f_[activation](Z)\n",
    "        \n",
    "        cache = {'Z': Z, 'A': A, 'A_prev': A_prev, 'W': W, 'b': b}\n",
    "        \n",
    "        return A, cache\n",
    "    \n",
    "    def _forward_prop(self, X):\n",
    "        self.cache_ = list()\n",
    "        A = X\n",
    "        \n",
    "        for i in range(self.L_-1):\n",
    "            A_prev = A\n",
    "            \n",
    "            A, cache = self._forward_step(A_prev, self.W_[i], self.b_[i], 'relu')\n",
    "            self.cache_.append(cache)\n",
    "            \n",
    "        A_last, cache = self._forward_step(A, self.W_[-1], self.b_[-1], 'sigmoid')\n",
    "        self.cache_.append(cache)\n",
    "        \n",
    "        return A_last\n",
    "    \n",
    "    # Backward propagation\n",
    "    def _backward_step(self, dA, cache, activation):\n",
    "        derivative = self.activation_f_derivative_[activation]\n",
    "        Z = cache['Z']\n",
    "        \n",
    "        dZ = derivative(dA, Z)\n",
    "        \n",
    "        A_prev, W, b = cache['A_prev'], cache['W'], cache['b']\n",
    "        n_instances = A_prev.shape[1]\n",
    "        \n",
    "        dW = np.dot(dZ, A_prev.T) / n_instances\n",
    "        db = np.sum(dZ, axis=1, keepdims=True) / n_instances\n",
    "        dA_prev = np.dot(W.T, dZ)\n",
    "        \n",
    "        return dA_prev, dW, db\n",
    "        \n",
    "    def _backward_prop(self, A_last):\n",
    "        self.Y = self.Y.reshape(A_last.shape)\n",
    "        \n",
    "        self.grads = list()\n",
    "        \n",
    "        dA_last = - (np.divide(self.Y, A_last) - np.divide(1 - self.Y, 1 - A_last))\n",
    "        \n",
    "        cache = self.cache_[-1]\n",
    "        dA_prev, dW, db = self._backward_step(dA_last, cache, 'sigmoid')\n",
    "        grads = {\"dW\": dW, \"db\": db}\n",
    "        \n",
    "        self.grads.append(grads)\n",
    "        \n",
    "        for i in reversed(range(self.L_-1)):\n",
    "            cache = self.cache_[i]\n",
    "            dA_prev, dW, db = self._backward_step(dA_prev, cache, 'relu')\n",
    "            grads = {\"dW\": dW, \"db\": db}\n",
    "            \n",
    "            self.grads.append(grads)\n",
    "            \n",
    "        self.grads = list(reversed(self.grads))\n",
    "        \n",
    "        return\n",
    "    \n",
    "    # update weights\n",
    "    def _update_weights(self):\n",
    "        W_ = self.W_.copy()\n",
    "        b_ = self.b_.copy()\n",
    "    \n",
    "        for i in range(self.L_):\n",
    "            self.W_[i] = W_[i] - self.learning_rate_ * self.grads[i]['dW']\n",
    "            self.b_[i] = b_[i] - self.learning_rate_ * self.grads[i]['db']\n",
    "            \n",
    "        return\n",
    "        \n",
    "    \n",
    "    def _get_cost(self, A_last, Y):\n",
    "        n_instances = Y.shape[1]\n",
    "        \n",
    "        cost = - (np.dot(np.log(A_last), Y.T) + np.dot(np.log(1 - A_last), (1 - Y).T)) / n_instances\n",
    "        \n",
    "        return np.squeeze(cost)\n",
    "            \n",
    "    def fit(self, X, y):\n",
    "        self.X = X\n",
    "        self.Y = y\n",
    "        self._initialize()\n",
    "        \n",
    "        self.costs = list()\n",
    "        \n",
    "        for i in range(self.n_epochs_):\n",
    "            A_last = self._forward_prop(X)\n",
    "        \n",
    "            self._backward_prop(A_last)\n",
    "            self._update_weights()\n",
    "            \n",
    "            cost = self._get_cost(A_last, y)\n",
    "            \n",
    "            if self.print_cost and i % 100 == 0 or i == self.n_epochs_ - 1:\n",
    "                print(\"Cost after iteration {}: {}\".format(i, np.squeeze(cost)))\n",
    "            if i % 100 == 0 or i == self.n_epochs_:\n",
    "                self.costs.append(cost)\n",
    "                \n",
    "        return self\n",
    "                \n",
    "    def predict(self, X_test):\n",
    "        n_instances = X_test.shape[1]\n",
    "        p = np.zeros(shape=(1, n_instances))\n",
    "        \n",
    "        probas = self._forward_prop(X_test)\n",
    "        \n",
    "        # convert probas to 0/1 predictions\n",
    "        for i in range(0, probas.shape[1]):\n",
    "            if probas[0,i] > 0.5:\n",
    "                p[0,i] = 1\n",
    "                                \n",
    "        return p\n",
    "            \n",
    "        "
   ]
  },
  {
   "cell_type": "markdown",
   "id": "9cf6415f",
   "metadata": {},
   "source": [
    "## Test model\n",
    "\n",
    "### Cats dataset"
   ]
  },
  {
   "cell_type": "code",
   "execution_count": 5,
   "id": "c4f31863",
   "metadata": {},
   "outputs": [],
   "source": [
    "import h5py\n",
    "\n",
    "def load_data():\n",
    "    train_dataset = h5py.File('datasets/train_catvnoncat.h5', \"r\")\n",
    "    train_set_x_orig = np.array(train_dataset[\"train_set_x\"][:]) # your train set features\n",
    "    train_set_y_orig = np.array(train_dataset[\"train_set_y\"][:]) # your train set labels\n",
    "\n",
    "    test_dataset = h5py.File('datasets/test_catvnoncat.h5', \"r\")\n",
    "    test_set_x_orig = np.array(test_dataset[\"test_set_x\"][:]) # your test set features\n",
    "    test_set_y_orig = np.array(test_dataset[\"test_set_y\"][:]) # your test set labels\n",
    "\n",
    "    classes = np.array(test_dataset[\"list_classes\"][:]) # the list of classes\n",
    "    \n",
    "    train_set_y_orig = train_set_y_orig.reshape((1, train_set_y_orig.shape[0]))\n",
    "    test_set_y_orig = test_set_y_orig.reshape((1, test_set_y_orig.shape[0]))\n",
    "    \n",
    "    return train_set_x_orig, train_set_y_orig, test_set_x_orig, test_set_y_orig, classes"
   ]
  },
  {
   "cell_type": "code",
   "execution_count": 6,
   "id": "532415c0",
   "metadata": {},
   "outputs": [],
   "source": [
    "train_x_orig, train_y, test_x_orig, test_y, classes = load_data()"
   ]
  },
  {
   "cell_type": "code",
   "execution_count": 7,
   "id": "9ca32ad2",
   "metadata": {},
   "outputs": [
    {
     "name": "stdout",
     "output_type": "stream",
     "text": [
      "y = 0. It's a non-cat picture.\n"
     ]
    },
    {
     "data": {
      "image/png": "[encoded data removed]",
      "text/plain": [
       "<Figure size 432x288 with 1 Axes>"
      ]
     },
     "metadata": {
      "needs_background": "light"
     },
     "output_type": "display_data"
    }
   ],
   "source": [
    "# Example of a picture\n",
    "index = 18\n",
    "plt.imshow(train_x_orig[index])\n",
    "print (\"y = \" + str(train_y[0,index]) + \". It's a \" + classes[train_y[0,index]].decode(\"utf-8\") +  \" picture.\")"
   ]
  },
  {
   "cell_type": "code",
   "execution_count": 8,
   "id": "9a7087e4",
   "metadata": {},
   "outputs": [
    {
     "name": "stdout",
     "output_type": "stream",
     "text": [
      "train_x's shape: (12288, 209)\n",
      "test_x's shape: (12288, 50)\n"
     ]
    }
   ],
   "source": [
    "# Reshape the training and test examples \n",
    "train_x_flatten = train_x_orig.reshape(train_x_orig.shape[0], -1).T   # The \"-1\" makes reshape flatten the remaining dimensions\n",
    "test_x_flatten = test_x_orig.reshape(test_x_orig.shape[0], -1).T\n",
    "\n",
    "# Standardize data to have feature values between 0 and 1.\n",
    "train_x = train_x_flatten/255.\n",
    "test_x = test_x_flatten/255.\n",
    "\n",
    "print (\"train_x's shape: \" + str(train_x.shape))\n",
    "print (\"test_x's shape: \" + str(test_x.shape))"
   ]
  },
  {
   "cell_type": "code",
   "execution_count": 9,
   "id": "6499f672",
   "metadata": {},
   "outputs": [],
   "source": [
    "# Helper function\n",
    "def plot_costs(costs, learning_rate=0.0075):\n",
    "    plt.plot(np.squeeze(costs))\n",
    "    plt.ylabel('cost')\n",
    "    plt.xlabel('iterations (per hundreds)')\n",
    "    plt.title(\"Learning rate =\" + str(learning_rate))\n",
    "    plt.show()"
   ]
  },
  {
   "cell_type": "code",
   "execution_count": 10,
   "id": "2b2e8568",
   "metadata": {},
   "outputs": [
    {
     "name": "stdout",
     "output_type": "stream",
     "text": [
      "Cost after iteration 0: 0.6950464961800916\n",
      "Cost after iteration 100: 0.5892596054583806\n",
      "Cost after iteration 200: 0.5232609173622991\n",
      "Cost after iteration 300: 0.44976863962219066\n",
      "Cost after iteration 400: 0.42090021618838985\n",
      "Cost after iteration 500: 0.3724640306174595\n",
      "Cost after iteration 600: 0.347420518702019\n",
      "Cost after iteration 700: 0.31719191987370277\n",
      "Cost after iteration 800: 0.2664377434774657\n",
      "Cost after iteration 900: 0.21991432807842576\n",
      "Cost after iteration 1000: 0.14357898893623774\n",
      "Cost after iteration 1100: 0.4530921262322089\n",
      "Cost after iteration 1200: 0.09499357670093518\n",
      "Cost after iteration 1300: 0.08014128076781374\n",
      "Cost after iteration 1400: 0.06940234005536468\n",
      "Cost after iteration 1500: 0.060216640231745944\n",
      "Cost after iteration 1600: 0.05327415758001881\n",
      "Cost after iteration 1700: 0.04762903262098436\n",
      "Cost after iteration 1800: 0.042975888794368707\n",
      "Cost after iteration 1900: 0.03903607436513822\n",
      "Cost after iteration 2000: 0.035683136380490275\n",
      "Cost after iteration 2100: 0.032915263730546776\n",
      "Cost after iteration 2200: 0.030472193059120627\n",
      "Cost after iteration 2300: 0.028387859212946134\n",
      "Cost after iteration 2400: 0.026615212372776056\n",
      "Cost after iteration 2499: 0.02482129221835338\n"
     ]
    },
    {
     "data": {
      "image/png": "[encoded data removed]",
      "text/plain": [
       "<Figure size 432x288 with 1 Axes>"
      ]
     },
     "metadata": {
      "needs_background": "light"
     },
     "output_type": "display_data"
    }
   ],
   "source": [
    "# try 2-layer NN\n",
    "model = nn_model(layer_sizes=[12288, 7, 1], learning_rate=0.0075, n_epochs=2500)\n",
    "model.fit(train_x, train_y)\n",
    "plot_costs(model.costs, model.learning_rate_)"
   ]
  },
  {
   "cell_type": "code",
   "execution_count": 11,
   "id": "8f90f464",
   "metadata": {},
   "outputs": [
    {
     "name": "stdout",
     "output_type": "stream",
     "text": [
      "1.0\n"
     ]
    }
   ],
   "source": [
    "preds = model.predict(train_x)\n",
    "print(np.sum(preds == train_y) / train_x.shape[1])"
   ]
  },
  {
   "cell_type": "code",
   "execution_count": 12,
   "id": "7dd67c16",
   "metadata": {},
   "outputs": [
    {
     "name": "stdout",
     "output_type": "stream",
     "text": [
      "0.74\n"
     ]
    }
   ],
   "source": [
    "preds = model.predict(test_x)\n",
    "print(np.sum(preds == test_y) / test_x.shape[1])"
   ]
  },
  {
   "cell_type": "code",
   "execution_count": 13,
   "id": "d9b7294f",
   "metadata": {},
   "outputs": [
    {
     "name": "stdout",
     "output_type": "stream",
     "text": [
      "Cost after iteration 0: 0.7717493284237686\n",
      "Cost after iteration 100: 0.6720534400822913\n",
      "Cost after iteration 200: 0.6482632048575212\n",
      "Cost after iteration 300: 0.6115068816101354\n",
      "Cost after iteration 400: 0.5670473268366111\n",
      "Cost after iteration 500: 0.54013766345478\n",
      "Cost after iteration 600: 0.5279299569455267\n",
      "Cost after iteration 700: 0.4654773771766853\n",
      "Cost after iteration 800: 0.369125852495928\n",
      "Cost after iteration 900: 0.3917469743480535\n",
      "Cost after iteration 1000: 0.31518698886006163\n",
      "Cost after iteration 1100: 0.27269984417893844\n",
      "Cost after iteration 1200: 0.23741853400268131\n",
      "Cost after iteration 1300: 0.19960120532208647\n",
      "Cost after iteration 1400: 0.189263003884633\n",
      "Cost after iteration 1500: 0.1611885466582775\n",
      "Cost after iteration 1600: 0.14821389662363316\n",
      "Cost after iteration 1700: 0.1377748781297294\n",
      "Cost after iteration 1800: 0.1297401754919012\n",
      "Cost after iteration 1900: 0.12122535068005211\n",
      "Cost after iteration 2000: 0.1138206066863371\n",
      "Cost after iteration 2100: 0.1078392852625413\n",
      "Cost after iteration 2200: 0.10285466069352679\n",
      "Cost after iteration 2300: 0.10089745445261787\n",
      "Cost after iteration 2400: 0.09287821526472397\n",
      "Cost after iteration 2499: 0.08843994344170202\n"
     ]
    },
    {
     "data": {
      "image/png": "[encoded data removed]",
      "text/plain": [
       "<Figure size 432x288 with 1 Axes>"
      ]
     },
     "metadata": {
      "needs_background": "light"
     },
     "output_type": "display_data"
    }
   ],
   "source": [
    "# try deeper model\n",
    "model = nn_model(layer_sizes=[12288, 20, 7, 5, 1], learning_rate=0.0075, n_epochs=2500)\n",
    "model.fit(train_x, train_y)\n",
    "plot_costs(model.costs, model.learning_rate_)"
   ]
  },
  {
   "cell_type": "code",
   "execution_count": 14,
   "id": "0d3da588",
   "metadata": {},
   "outputs": [
    {
     "name": "stdout",
     "output_type": "stream",
     "text": [
      "0.9856459330143541\n"
     ]
    }
   ],
   "source": [
    "preds = model.predict(train_x)\n",
    "print(np.sum(preds == train_y) / train_x.shape[1])"
   ]
  },
  {
   "cell_type": "code",
   "execution_count": 15,
   "id": "525d7a1a",
   "metadata": {},
   "outputs": [
    {
     "name": "stdout",
     "output_type": "stream",
     "text": [
      "0.8\n"
     ]
    }
   ],
   "source": [
    "preds = model.predict(test_x)\n",
    "print(np.sum(preds == test_y) / test_x.shape[1])"
   ]
  }
 ],
 "metadata": {
  "kernelspec": {
   "display_name": "Python 3 (ipykernel)",
   "language": "python",
   "name": "python3"
  },
  "language_info": {
   "codemirror_mode": {
    "name": "ipython",
    "version": 3
   },
   "file_extension": ".py",
   "mimetype": "text/x-python",
   "name": "python",
   "nbconvert_exporter": "python",
   "pygments_lexer": "ipython3",
   "version": "3.9.13"
  }
 },
 "nbformat": 4,
 "nbformat_minor": 5
}

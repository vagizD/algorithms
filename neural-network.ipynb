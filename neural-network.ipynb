{
 "cells": [
  {
   "cell_type": "markdown",
   "id": "6e5fa033",
   "metadata": {},
   "source": [
    "# Neural Network\n",
    "\n",
    "Below is my understanding and realisation of Deep NN. Knowledge and dataset taken from [deeplearning.ai course](https://www.deeplearning.ai/courses/deep-learning-specialization/)."
   ]
  },
  {
   "cell_type": "code",
   "execution_count": 1,
   "id": "aeae86a3",
   "metadata": {},
   "outputs": [],
   "source": [
    "import numpy as np\n",
    "import matplotlib.pyplot as plt\n",
    "from copy import deepcopy"
   ]
  },
  {
   "cell_type": "markdown",
   "id": "2868e2a5",
   "metadata": {},
   "source": [
    "## Model Scheme"
   ]
  },
  {
   "cell_type": "markdown",
   "id": "972e0f51",
   "metadata": {},
   "source": [
    "<img src='image/nn-scheme.jpg'>"
   ]
  },
  {
   "cell_type": "markdown",
   "id": "4ce9cc49",
   "metadata": {},
   "source": [
    "### 1. Forward Propagation\n",
    "\n",
    "Forward Propagation has $L$ layers.\n",
    "\n",
    "Activation functions:\n",
    "\n",
    "- **Sigmoid**: $\\displaystyle\\sigma(z) = \\frac{1}{1 + e^{-Z}}$ - used for last layer (prediction).\n",
    "\n",
    "- **ReLU**: $\\displaystyle relu(z) = max(0,z)$ - used for hidden layers.\n",
    "\n",
    "Reccurent relation for computing forward propagation (superscript ~ layer's number):\n",
    "\n",
    "$$Z^{[i]} = W^{[i]}A^{[i-1]} + b^{[i]}$$\n",
    "\n",
    "$$A^{[i]} = a^{[i]}(Z^{[i]}), \\ \\ A^{[0]} = X$$\n",
    "\n",
    "where $a^{[l]}$ is activation function of layer $l$, either ReLU or sigmoid.\n",
    "\n",
    "### 2. Cost (MLE)\n",
    "\n",
    "Given input vector $x$, we want to estimate probability of observing output value $y$, which is $p(y|x) = \\widehat{y}$. It means that $p(y = 0|x) = \\widehat{y}$ and $p(y = 1|x) = 1 - \\widehat{y}$ (or vice versa). It could be shown that probability distribution $p(y|x) = \\widehat{y}^y \\times (1 - \\widehat{y}) ^{1-y}$ is indeed a probability distribution and produces needed values for $y = 0$ and $y = 1$. Thus, maximizing $p(y|x)$ is the same as minimizing $-\\log p(y|x)$, which is easier to compute. $-\\log p(y|x) = - (\\widehat{y}\\log y + (1-\\widehat{y})\\log(1 - y))$.\n",
    "\n",
    "That is, given input vector $X$ of **independently and identically distributed** random variables (which are vectors, and thus $X$ is matrix), we want to estimate probability of observing output vector $Y$, which is $p(Y|X)$.\n",
    "\n",
    "$$p(Y|X) = \\prod_{i=1}^{n} p(y_i|x_i)$$\n",
    "$$-\\log p(Y|X) = \\sum_{i=1}^{n} \\log p(y_i|x_i)$$\n",
    "\n",
    "$$J(\\widehat{Y}, Y) = - \\frac{1}{n} \\sum_{i=1}^{n} \\widehat{y}_i\\log y_i + (1-\\widehat{y}_i)\\log(1 - y_i)$$\n",
    "\n",
    "### 3. Backward Propagation"
   ]
  },
  {
   "cell_type": "markdown",
   "id": "20b47b46",
   "metadata": {},
   "source": [
    "<img src='image/forw-back-nn.jpg'>"
   ]
  },
  {
   "cell_type": "markdown",
   "id": "2a00f68a",
   "metadata": {},
   "source": [
    "Consider layer $l < L$.\n",
    "\n",
    "It is propagated forward as: $Z^{[l]} = W^{[l]}A^{[l-1]} + b^{[l]}; A^{[l]} = a^{[l]}(Z^{[l]})$. Assume you have already calculated $dZ^{[l]}$ (abbreviation for $\\displaystyle\\frac{\\partial J}{\\partial Z^{[l]}}$ since all derivatives are computed as $J$ with respect to something) and need to get $dW^{[l]}, db^{[l]}, dA^{[l-1]}$.\n",
    "\n",
    "$$dW^{[l]} = \\frac{\\partial J}{\\partial W^{[l]}} = \\frac{\\partial J}{\\partial Z^{[l]}} (\\text{which is calculated on previous step}) \\times \\frac{\\partial Z^{[l]}}{\\partial W^{[l]}} = \\frac{1}{n}dZ^{[l]} A^{[l-1]T} (\\text{as }W^{[l]} \\text{ of shape } (n^{[l]}, n^{[l-1]}))$$\n",
    "\n",
    "$$db^{[l]} = \\frac{\\partial J}{\\partial b^{[l]}} = \\frac{\\partial J}{\\partial Z^{[l]}} = \\frac{1}{n}\\sum_{i=1}^{n} dZ^{[l](i)} (\\text{vector of shape }(n^{[l]}, 1))$$\n",
    "\n",
    "$$dA^{[l-1]} = \\frac{\\partial J}{\\partial A^{[l-1]}} = \\frac{\\partial J}{\\partial Z^{[l]}} \\times \\frac{\\partial Z^{[l]}}{\\partial A^{[l-1]}} = W^{[l] T} dZ^{[l]}$$"
   ]
  },
  {
   "cell_type": "markdown",
   "id": "1579b4b3",
   "metadata": {},
   "source": [
    "Computing $dZ^{[l]}$ gives opportunity to **update weights** in current layer $l$ and continue with layer $l-1$.\n",
    "\n",
    "$$dZ^{[l]} = \\frac{\\partial J}{\\partial Z^{[l]}} = \\frac{\\partial J}{\\partial A^{[l]}} \\times \\frac{\\partial A^{[l]}}{\\partial Z^{[l]}} = dA^{[l]} \\times a^{[l]'}(Z)$$\n",
    "\n",
    "where $a^{[l]'}(Z)$ is derivative of activation function $a(Z)$ of layer $l$ with respect to $Z$. We need one for both ReLU and sigmoid:\n",
    "\n",
    "- **ReLU**: $relu'(z) = [z > 0]$.\n",
    "- **Sigmoid**: $\\sigma'(z) = \\sigma(z) (1 - \\sigma(z))$"
   ]
  },
  {
   "cell_type": "markdown",
   "id": "69196065",
   "metadata": {},
   "source": [
    "However, **to initialize the chain** we need to compute $dA^{[l]}$ first. For $l = L$ (check with two lines of calculus):\n",
    "\n",
    "$$\\frac{\\partial  J(a^{[l](i)}, y^{(i)})}{\\partial a^{[l](i)}} = - \\frac{y^{(i)}}{a^{[l](i)}} + \\frac{1 - y^{(i)}}{1 - a^{[l](i)}}$$"
   ]
  },
  {
   "cell_type": "markdown",
   "id": "f633d4a5",
   "metadata": {},
   "source": [
    "### 4. Regularization\n",
    "\n",
    "#### 4.1. $L_1$/$L_2$ regularization\n",
    "\n",
    "$L_1$/$L_2$ regularization techniques have an idea of penalizing algorithm for assigning large weights to some features.\n",
    "\n",
    "Cost function provided above is **cross entropy loss**:\n",
    "\n",
    "$$J = -\\frac{1}{m} \\sum\\limits_{i = 1}^{m} \\left(\\small  y^{(i)}\\log\\left(a^{[L](i)}\\right) + (1-y^{(i)})\\log\\left(1- a^{[L](i)}\\right) \\right)$$\n",
    "\n",
    "Regularized cost function:\n",
    "\n",
    "$$J_{L_1} = \\text{cross entropy} + \\frac{\\lambda}{2n}\\sum_{\\text{layers}}\\sum_{\\text{rows}}\\sum_{\\text{columns}} |W^{[l]}_{r,c}|$$\n",
    "\n",
    "$$J_{L_2} = \\text{cross entropy} + \\frac{\\lambda}{2n}\\sum_{\\text{layers}}\\sum_{\\text{rows}}\\sum_{\\text{columns}} W^{[l]^2}_{r,c}$$\n",
    "\n",
    "Addition of either of $L_1$ or $L_2$ regularization affects not only cost function, but $\\displaystyle\\frac{\\partial J}{\\partial W^{[l]}}$ as well, since regularization term contains $\\displaystyle W^{[l]}$:\n",
    "\n",
    "$$dW^{[l]} = \\frac{\\partial J_{L_1}}{\\partial W^{[l]}} = \\frac{\\partial J_{L_1}}{\\partial Z^{[l]}} \\times \\frac{\\partial Z^{[l]}}{\\partial W^{[l]}} + L_1\\text{ loss} = dZ^{[l]}A^{[l-1]T} + \\frac{\\lambda}{2n}\\sum_{\\text{layers}}\\sum_{\\text{rows}}\\sum_{\\text{columns}} (-1)^{\\left[W^{[l]}_{r,c} \\ < \\ 0\\right]}$$\n",
    "\n",
    "$$dW^{[l]} = \\frac{\\partial J_{L_2}}{\\partial W^{[l]}} = \\frac{\\partial J_{L_2}}{\\partial Z^{[l]}} \\times \\frac{\\partial Z^{[l]}}{\\partial W^{[l]}} + L_2\\text{ loss} = dZ^{[l]}A^{[l-1]T} + \\frac{\\lambda}{n}\\sum_{\\text{layers}}\\sum_{\\text{rows}}\\sum_{\\text{columns}} W_{r,c}^{[l]}$$"
   ]
  },
  {
   "cell_type": "markdown",
   "id": "8b19ceb8",
   "metadata": {},
   "source": [
    "##### How does L1/L2 regularization reduces overfitting?\n",
    "\n",
    "<img src='image/regularization1.jpg'>\n",
    "\n",
    "<img src='image/regularization2.jpg'>"
   ]
  },
  {
   "cell_type": "markdown",
   "id": "c46bcf2b",
   "metadata": {},
   "source": [
    "**Comment**: if activation function in all layers is linear, then the network is just logistic regression (write down resulting prediction function using some algebra). That is, if *some* activation functions resemble a linear classifier, then overall model complexity diminishes, since some parts become \"just linear\"."
   ]
  },
  {
   "cell_type": "markdown",
   "id": "6c330209",
   "metadata": {},
   "source": [
    "#### 4.2. Inverted dropout regularization\n",
    "\n",
    "**Idea**: with probability $p_{i,j}$ $i$-th node of $j$-th layer will be deleted from network during current iteration.\n",
    "\n",
    "**Motivation**: random removal of neurons leads to learning from other data *more*. On each iteration we \"abuse\" some neurons, and this effect is averaged across iterations (similar to random forest techinque).\n",
    "\n",
    "**Caveats**: since some neurons of layer $l$ are off, then actual value of $A^{[l]}$ is lower than its expected value. Thus, we can adjust it multiplying by inverse of $p_{i,j}$.\n",
    "\n",
    "##### Why does dropout work?\n",
    "\n",
    "Algorithm can't rely on any one feature, so have to spread out weights (and therefore **shrink norm of the vector**)."
   ]
  },
  {
   "cell_type": "markdown",
   "id": "270226ed",
   "metadata": {},
   "source": [
    "## Activation functions"
   ]
  },
  {
   "cell_type": "code",
   "execution_count": 2,
   "id": "2c3a1e1d",
   "metadata": {},
   "outputs": [],
   "source": [
    "def sigmoid(Z):\n",
    "    return 1 / (1 + np.exp(-Z))\n",
    "\n",
    "def sigmoid_derivative(dA, Z):\n",
    "    s = sigmoid(Z)\n",
    "    return dA * s * (1 - s)"
   ]
  },
  {
   "cell_type": "code",
   "execution_count": 3,
   "id": "847d5e81",
   "metadata": {},
   "outputs": [],
   "source": [
    "def relu(Z):\n",
    "    return np.maximum(0, Z)\n",
    "\n",
    "def relu_derivative(dA, Z):\n",
    "    dZ = np.array(dA, copy=True)\n",
    "    \n",
    "    dZ[Z <= 0] = 0\n",
    "    \n",
    "    return dZ"
   ]
  },
  {
   "cell_type": "markdown",
   "id": "fb668ee5",
   "metadata": {},
   "source": [
    "## Neural Network Class"
   ]
  },
  {
   "cell_type": "code",
   "execution_count": 4,
   "id": "275e8743",
   "metadata": {},
   "outputs": [],
   "source": [
    "class nn_model:\n",
    "    def __init__(self, layer_sizes=[5, 5, 5], learning_rate=0.01, n_epochs=2500, keep_prob=None, lambd=0, regularization=None, print_cost=True):\n",
    "        self.learning_rate_ = learning_rate\n",
    "        self.L_ = len(layer_sizes) - 1 # number of layers (except input layer)\n",
    "        self.layer_sizes_ = deepcopy(layer_sizes)\n",
    "        self.n_epochs_ = n_epochs\n",
    "        self.print_cost = print_cost\n",
    "        \n",
    "        self.W_ = list()\n",
    "        self.b_ = list()\n",
    "        \n",
    "        self.activation_f_ = {'sigmoid': sigmoid, 'relu': relu}\n",
    "        self.activation_f_derivative_ = {'sigmoid': sigmoid_derivative, 'relu': relu_derivative}\n",
    "        \n",
    "        if regularization is not None:\n",
    "            assert regularization in ['l1', 'l2', 'dropout'], f\"'regularization' must be one of ('l1', 'l2', 'dropout')\"\n",
    "            self.regularization_ = regularization\n",
    "            \n",
    "        else:\n",
    "            self.regularization_ = None\n",
    "            \n",
    "        self.lambda_ = lambd\n",
    "        self.keep_prob_ = keep_prob\n",
    "\n",
    "        \n",
    "    # Initialization\n",
    "    def _initialize(self, w_coef=0.01):\n",
    "        np.random.seed(1)\n",
    "        \n",
    "        for i in range(self.L_):\n",
    "            \n",
    "            shape_W = (self.layer_sizes_[i + 1], self.layer_sizes_[i])\n",
    "            # 2/sqrt - 'He' initialization, good for ReLU. 1/sqrt - 'Xavier' initialization\n",
    "            self.W_.append(np.random.randn(*shape_W) * np.sqrt(1/self.layer_sizes_[i]))\n",
    "            \n",
    "            shape_b = (self.layer_sizes_[i + 1], 1)\n",
    "            self.b_.append(np.zeros(shape_b))\n",
    "        \n",
    "    # Forward propagation\n",
    "    def _forward_step(self, A_prev, W, b, activation):\n",
    "        Z = np.dot(W, A_prev) + b\n",
    "        A = self.activation_f_[activation](Z)\n",
    "        \n",
    "        cache = {'Z': Z, 'A_prev': A_prev, 'W': W, 'b': b}\n",
    "        \n",
    "        return A, cache\n",
    "    \n",
    "    def _forward_prop(self, X, is_predict=False):\n",
    "        self.cache_ = list()\n",
    "        A = X\n",
    "        \n",
    "        for i in range(self.L_-1):\n",
    "            A_prev = A\n",
    "            \n",
    "            A, cache = self._forward_step(A_prev, self.W_[i], self.b_[i], 'relu')\n",
    "            \n",
    "            # random shut down in hidden layers\n",
    "            if not is_predict and self.regularization_ == 'dropout':\n",
    "                rand_vector = np.random.rand(*A.shape)\n",
    "                zero_one_vector = (rand_vector < self.keep_prob_).astype(int)\n",
    "                A *= zero_one_vector\n",
    "                # back to expected value\n",
    "                A /= self.keep_prob_\n",
    "                \n",
    "                cache['zero_one_vector'] = zero_one_vector\n",
    "                \n",
    "            self.cache_.append(cache)\n",
    "            \n",
    "        A_last, cache = self._forward_step(A, self.W_[-1], self.b_[-1], 'sigmoid')\n",
    "        self.cache_.append(cache)\n",
    "        \n",
    "        return A_last\n",
    "    \n",
    "    # Backward propagation\n",
    "    def _backward_step(self, dA, cache, activation):\n",
    "        derivative = self.activation_f_derivative_[activation]\n",
    "        Z = cache['Z']\n",
    "        \n",
    "        dZ = derivative(dA, Z)\n",
    "        \n",
    "        A_prev, W, b = cache['A_prev'], cache['W'], cache['b']\n",
    "        \n",
    "        dW = np.dot(dZ, A_prev.T) / self.n_instances_\n",
    "        db = np.sum(dZ, axis=1, keepdims=True) / self.n_instances_\n",
    "        dA_prev = np.dot(W.T, dZ)\n",
    "        \n",
    "        # weights term in L1/L2 regularization\n",
    "        if self.regularization_ in ['l1', 'l2']:\n",
    "            if self.regularization_ == 'l1':\n",
    "                f = lambda _W: self.lambda_ / (2 * self.n_instances_) * ((_W > 0).astype(int) - (_W < 0).astype(int))\n",
    "            elif self.regularization_ == 'l2':\n",
    "                f = lambda _W:self.lambda_ / self.n_instances_ *  _W \n",
    "            dW += f(W)\n",
    "        \n",
    "        return dA_prev, dW, db\n",
    "        \n",
    "    def _backward_prop(self, A_last):\n",
    "        self.Y = self.Y.reshape(A_last.shape)\n",
    "        \n",
    "        self.grads_ = list()            \n",
    "        dA_last = - (np.divide(self.Y, A_last) - np.divide(1 - self.Y, 1 - A_last))\n",
    "        \n",
    "        cache = self.cache_[-1]\n",
    "        dA_prev, dW, db = self._backward_step(dA_last, cache, 'sigmoid')\n",
    "        grads = {\"dW\": dW, \"db\": db}\n",
    "        \n",
    "        self.grads_.append(grads)\n",
    "        \n",
    "        for i in reversed(range(self.L_-1)):\n",
    "            cache = self.cache_[i]\n",
    "            \n",
    "            # adjust back_prop with dropout\n",
    "            if self.regularization_ == 'dropout':\n",
    "                dA_prev *= cache['zero_one_vector']\n",
    "                dA_prev /= self.keep_prob_\n",
    "            \n",
    "            dA_prev, dW, db = self._backward_step(dA_prev, cache, 'relu')\n",
    "            grads = {\"dW\": dW, \"db\": db}\n",
    "            \n",
    "            self.grads_.append(grads)\n",
    "            \n",
    "        self.grads_ = list(reversed(self.grads_))\n",
    "        \n",
    "        return\n",
    "    \n",
    "    # update weights\n",
    "    def _update_weights(self):\n",
    "        W_ = self.W_.copy()\n",
    "        b_ = self.b_.copy()\n",
    "    \n",
    "        for i in range(self.L_):\n",
    "            self.W_[i] = W_[i] - self.learning_rate_ * self.grads_[i]['dW']\n",
    "            self.b_[i] = b_[i] - self.learning_rate_ * self.grads_[i]['db']\n",
    "            \n",
    "        return\n",
    "        \n",
    "    \n",
    "    def _get_cost(self, A_last, Y):\n",
    "        cost = - (np.dot(np.log(A_last), Y.T) + np.dot(np.log(1 - A_last), (1 - Y).T)) / self.n_instances_\n",
    "        \n",
    "        # L1/L2 regularization changes cost-function\n",
    "        if self.regularization_ in ['l1', 'l2']:\n",
    "            if self.regularization_ == 'l1':\n",
    "                f = lambda _W: np.sum(np.absolute(_W))\n",
    "            elif self.regularization_ == 'l2':\n",
    "                f = lambda _W: np.sum(np.square(_W))\n",
    "            \n",
    "            w_loss = 0\n",
    "            for c in self.cache_:\n",
    "                w_loss += f(c['W'])\n",
    "                \n",
    "            reg_loss = self.lambda_ * (2/self.n_instances_) * w_loss\n",
    "                \n",
    "            cost += reg_loss\n",
    "        \n",
    "        return np.squeeze(cost)\n",
    "            \n",
    "    def fit(self, X, y):\n",
    "        self.X = X\n",
    "        self.Y = y\n",
    "        self.n_instances_ = X.shape[1]\n",
    "        self._initialize()\n",
    "        \n",
    "        self.costs = list()\n",
    "        \n",
    "        for i in range(self.n_epochs_):\n",
    "            A_last = self._forward_prop(X, is_predict=False)\n",
    "        \n",
    "            self._backward_prop(A_last)\n",
    "            self._update_weights()\n",
    "            \n",
    "            cost = self._get_cost(A_last, y)\n",
    "            \n",
    "            if self.print_cost and i % 100 == 0 or i == self.n_epochs_ - 1:\n",
    "                print(\"Cost after iteration {}: {}\".format(i, np.squeeze(cost)))\n",
    "            if i % 100 == 0 or i == self.n_epochs_:\n",
    "                self.costs.append(cost)\n",
    "                \n",
    "        return self\n",
    "                \n",
    "    def predict(self, X_test):\n",
    "        n_instances = X_test.shape[1]\n",
    "        p = np.zeros(shape=(1, n_instances))\n",
    "        \n",
    "        probas = self._forward_prop(X_test, is_predict=True)\n",
    "        \n",
    "        # convert probas to 0/1 predictions\n",
    "        for i in range(0, probas.shape[1]):\n",
    "            if probas[0,i] > 0.5:\n",
    "                p[0,i] = 1\n",
    "                                \n",
    "        return p\n",
    "            \n",
    "        "
   ]
  },
  {
   "cell_type": "markdown",
   "id": "9cf6415f",
   "metadata": {},
   "source": [
    "## Test model\n",
    "\n",
    "### Cats dataset"
   ]
  },
  {
   "cell_type": "code",
   "execution_count": 5,
   "id": "c4f31863",
   "metadata": {},
   "outputs": [],
   "source": [
    "import h5py\n",
    "\n",
    "def load_data():\n",
    "    train_dataset = h5py.File('datasets/train_catvnoncat.h5', \"r\")\n",
    "    train_set_x_orig = np.array(train_dataset[\"train_set_x\"][:]) # your train set features\n",
    "    train_set_y_orig = np.array(train_dataset[\"train_set_y\"][:]) # your train set labels\n",
    "\n",
    "    test_dataset = h5py.File('datasets/test_catvnoncat.h5', \"r\")\n",
    "    test_set_x_orig = np.array(test_dataset[\"test_set_x\"][:]) # your test set features\n",
    "    test_set_y_orig = np.array(test_dataset[\"test_set_y\"][:]) # your test set labels\n",
    "\n",
    "    classes = np.array(test_dataset[\"list_classes\"][:]) # the list of classes\n",
    "    \n",
    "    train_set_y_orig = train_set_y_orig.reshape((1, train_set_y_orig.shape[0]))\n",
    "    test_set_y_orig = test_set_y_orig.reshape((1, test_set_y_orig.shape[0]))\n",
    "    \n",
    "    return train_set_x_orig, train_set_y_orig, test_set_x_orig, test_set_y_orig, classes"
   ]
  },
  {
   "cell_type": "code",
   "execution_count": 6,
   "id": "532415c0",
   "metadata": {},
   "outputs": [],
   "source": [
    "train_x_orig, train_y, test_x_orig, test_y, classes = load_data()"
   ]
  },
  {
   "cell_type": "code",
   "execution_count": 7,
   "id": "9ca32ad2",
   "metadata": {},
   "outputs": [
    {
     "name": "stdout",
     "output_type": "stream",
     "text": [
      "y = 0. It's a non-cat picture.\n"
     ]
    },
    {
     "data": {
      "image/png": "[encoded data removed]",
      "text/plain": [
       "<Figure size 432x288 with 1 Axes>"
      ]
     },
     "metadata": {
      "needs_background": "light"
     },
     "output_type": "display_data"
    }
   ],
   "source": [
    "# Example of a picture\n",
    "index = 18\n",
    "plt.imshow(train_x_orig[index])\n",
    "print (\"y = \" + str(train_y[0,index]) + \". It's a \" + classes[train_y[0,index]].decode(\"utf-8\") +  \" picture.\")"
   ]
  },
  {
   "cell_type": "code",
   "execution_count": 8,
   "id": "9a7087e4",
   "metadata": {},
   "outputs": [
    {
     "name": "stdout",
     "output_type": "stream",
     "text": [
      "train_x's shape: (12288, 209)\n",
      "test_x's shape: (12288, 50)\n"
     ]
    }
   ],
   "source": [
    "# Reshape the training and test examples \n",
    "train_x_flatten = train_x_orig.reshape(train_x_orig.shape[0], -1).T   # The \"-1\" makes reshape flatten the remaining dimensions\n",
    "test_x_flatten = test_x_orig.reshape(test_x_orig.shape[0], -1).T\n",
    "\n",
    "# Standardize data to have feature values between 0 and 1.\n",
    "train_x = train_x_flatten/255.\n",
    "test_x = test_x_flatten/255.\n",
    "\n",
    "print (\"train_x's shape: \" + str(train_x.shape))\n",
    "print (\"test_x's shape: \" + str(test_x.shape))"
   ]
  },
  {
   "cell_type": "code",
   "execution_count": 9,
   "id": "6499f672",
   "metadata": {},
   "outputs": [],
   "source": [
    "# Helper function\n",
    "def plot_costs(costs, learning_rate=0.0075):\n",
    "    plt.plot(np.squeeze(costs))\n",
    "    plt.ylabel('cost')\n",
    "    plt.xlabel('iterations (per hundreds)')\n",
    "    plt.title(\"Learning rate =\" + str(learning_rate))\n",
    "    plt.show()"
   ]
  },
  {
   "cell_type": "markdown",
   "id": "cd764379",
   "metadata": {},
   "source": [
    "### 2-layer NN"
   ]
  },
  {
   "cell_type": "code",
   "execution_count": 10,
   "id": "2b2e8568",
   "metadata": {
    "scrolled": false
   },
   "outputs": [
    {
     "name": "stdout",
     "output_type": "stream",
     "text": [
      "Cost after iteration 0: 0.6950464961800917\n",
      "Cost after iteration 100: 0.5892596054583805\n",
      "Cost after iteration 200: 0.5232609173622991\n",
      "Cost after iteration 300: 0.44976863962219055\n",
      "Cost after iteration 400: 0.42090021618838985\n",
      "Cost after iteration 500: 0.3724640306174595\n",
      "Cost after iteration 600: 0.3474205187020191\n",
      "Cost after iteration 700: 0.3171919198737029\n",
      "Cost after iteration 800: 0.266437743477466\n",
      "Cost after iteration 900: 0.21991432807842562\n",
      "Cost after iteration 1000: 0.14357898893623758\n",
      "Cost after iteration 1100: 0.45309212623221307\n",
      "Cost after iteration 1200: 0.0949935767009351\n",
      "Cost after iteration 1300: 0.08014128076781367\n",
      "Cost after iteration 1400: 0.06940234005536464\n",
      "Cost after iteration 1500: 0.06021664023174592\n",
      "Cost after iteration 1600: 0.05327415758001876\n",
      "Cost after iteration 1700: 0.047629032620984335\n",
      "Cost after iteration 1800: 0.042975888794368686\n",
      "Cost after iteration 1900: 0.03903607436513822\n",
      "Cost after iteration 2000: 0.03568313638049026\n",
      "Cost after iteration 2100: 0.03291526373054678\n",
      "Cost after iteration 2200: 0.030472193059120623\n",
      "Cost after iteration 2300: 0.028387859212946124\n",
      "Cost after iteration 2400: 0.02661521237277606\n",
      "Cost after iteration 2499: 0.02482129221835336\n"
     ]
    },
    {
     "data": {
      "image/png": "[encoded data removed]",
      "text/plain": [
       "<Figure size 432x288 with 1 Axes>"
      ]
     },
     "metadata": {
      "needs_background": "light"
     },
     "output_type": "display_data"
    }
   ],
   "source": [
    "model = nn_model(layer_sizes=[12288, 7, 1], learning_rate=0.0075, n_epochs=2500)\n",
    "model.fit(train_x, train_y)\n",
    "plot_costs(model.costs, model.learning_rate_)"
   ]
  },
  {
   "cell_type": "code",
   "execution_count": 11,
   "id": "8f90f464",
   "metadata": {},
   "outputs": [
    {
     "name": "stdout",
     "output_type": "stream",
     "text": [
      "1.0\n"
     ]
    }
   ],
   "source": [
    "preds = model.predict(train_x)\n",
    "print(np.sum(preds == train_y) / train_x.shape[1])"
   ]
  },
  {
   "cell_type": "code",
   "execution_count": 12,
   "id": "7dd67c16",
   "metadata": {},
   "outputs": [
    {
     "name": "stdout",
     "output_type": "stream",
     "text": [
      "0.74\n"
     ]
    }
   ],
   "source": [
    "preds = model.predict(test_x)\n",
    "print(np.sum(preds == test_y) / test_x.shape[1])"
   ]
  },
  {
   "cell_type": "markdown",
   "id": "6555f482",
   "metadata": {},
   "source": [
    "### 4-layer NN"
   ]
  },
  {
   "cell_type": "code",
   "execution_count": 13,
   "id": "d9b7294f",
   "metadata": {},
   "outputs": [
    {
     "name": "stdout",
     "output_type": "stream",
     "text": [
      "Cost after iteration 0: 0.7717493284237686\n",
      "Cost after iteration 100: 0.6720534400822913\n",
      "Cost after iteration 200: 0.6482632048575212\n",
      "Cost after iteration 300: 0.6115068816101356\n",
      "Cost after iteration 400: 0.5670473268366111\n",
      "Cost after iteration 500: 0.54013766345478\n",
      "Cost after iteration 600: 0.5279299569455267\n",
      "Cost after iteration 700: 0.46547737717668514\n",
      "Cost after iteration 800: 0.369125852495928\n",
      "Cost after iteration 900: 0.3917469743480535\n",
      "Cost after iteration 1000: 0.31518698886006163\n",
      "Cost after iteration 1100: 0.27269984417893856\n",
      "Cost after iteration 1200: 0.23741853400268131\n",
      "Cost after iteration 1300: 0.19960120532208647\n",
      "Cost after iteration 1400: 0.189263003884633\n",
      "Cost after iteration 1500: 0.1611885466582775\n",
      "Cost after iteration 1600: 0.14821389662363318\n",
      "Cost after iteration 1700: 0.1377748781297294\n",
      "Cost after iteration 1800: 0.1297401754919012\n",
      "Cost after iteration 1900: 0.12122535068005211\n",
      "Cost after iteration 2000: 0.1138206066863371\n",
      "Cost after iteration 2100: 0.10783928526254133\n",
      "Cost after iteration 2200: 0.10285466069352679\n",
      "Cost after iteration 2300: 0.10089745445261787\n",
      "Cost after iteration 2400: 0.09287821526472397\n",
      "Cost after iteration 2499: 0.08843994344170202\n"
     ]
    },
    {
     "data": {
      "image/png": "[encoded data removed]",
      "text/plain": [
       "<Figure size 432x288 with 1 Axes>"
      ]
     },
     "metadata": {
      "needs_background": "light"
     },
     "output_type": "display_data"
    }
   ],
   "source": [
    "model = nn_model(layer_sizes=[12288, 20, 7, 5, 1], learning_rate=0.0075, n_epochs=2500)\n",
    "model.fit(train_x, train_y)\n",
    "plot_costs(model.costs, model.learning_rate_)"
   ]
  },
  {
   "cell_type": "code",
   "execution_count": 14,
   "id": "0d3da588",
   "metadata": {},
   "outputs": [
    {
     "name": "stdout",
     "output_type": "stream",
     "text": [
      "0.9856459330143541\n"
     ]
    }
   ],
   "source": [
    "preds = model.predict(train_x)\n",
    "print(np.sum(preds == train_y) / train_x.shape[1])"
   ]
  },
  {
   "cell_type": "code",
   "execution_count": 15,
   "id": "68c68333",
   "metadata": {},
   "outputs": [
    {
     "name": "stdout",
     "output_type": "stream",
     "text": [
      "0.8\n"
     ]
    }
   ],
   "source": [
    "preds = model.predict(test_x)\n",
    "print(np.sum(preds == test_y) / test_x.shape[1])"
   ]
  },
  {
   "cell_type": "markdown",
   "id": "5a12a0c7",
   "metadata": {},
   "source": [
    "### 5-layer NN"
   ]
  },
  {
   "cell_type": "code",
   "execution_count": 16,
   "id": "71203d29",
   "metadata": {},
   "outputs": [
    {
     "name": "stdout",
     "output_type": "stream",
     "text": [
      "Cost after iteration 0: 0.7043530082286679\n",
      "Cost after iteration 100: 0.672516441900389\n",
      "Cost after iteration 200: 0.6533879319496736\n",
      "Cost after iteration 300: 0.633758270903465\n",
      "Cost after iteration 400: 0.6104036892592286\n",
      "Cost after iteration 500: 0.5636396717485451\n",
      "Cost after iteration 600: 0.48298310630798885\n",
      "Cost after iteration 700: 0.3796419943131105\n",
      "Cost after iteration 800: 0.30439894957732677\n",
      "Cost after iteration 900: 0.2361449339918164\n",
      "Cost after iteration 1000: 0.17311674506243319\n",
      "Cost after iteration 1100: 0.09035623197181736\n",
      "Cost after iteration 1200: 0.049838488021863595\n",
      "Cost after iteration 1300: 0.03351841641211865\n",
      "Cost after iteration 1400: 0.024383419949039493\n",
      "Cost after iteration 1500: 0.018615397038311787\n",
      "Cost after iteration 1600: 0.014640862735613798\n",
      "Cost after iteration 1700: 0.011857751708296007\n",
      "Cost after iteration 1800: 0.00982492461261707\n",
      "Cost after iteration 1900: 0.008287916992604285\n",
      "Cost after iteration 2000: 0.0071014605738155216\n",
      "Cost after iteration 2100: 0.006168616566117374\n",
      "Cost after iteration 2200: 0.005419608368461931\n",
      "Cost after iteration 2300: 0.004809843441969234\n",
      "Cost after iteration 2400: 0.004304089298456881\n",
      "Cost after iteration 2499: 0.0038864222501606674\n"
     ]
    },
    {
     "data": {
      "image/png": "[encoded data removed]",
      "text/plain": [
       "<Figure size 432x288 with 1 Axes>"
      ]
     },
     "metadata": {
      "needs_background": "light"
     },
     "output_type": "display_data"
    }
   ],
   "source": [
    "model = nn_model(layer_sizes=[12288, 20, 12, 8, 5, 1], learning_rate=0.0075, n_epochs=2500)\n",
    "model.fit(train_x, train_y)\n",
    "plot_costs(model.costs, model.learning_rate_)"
   ]
  },
  {
   "cell_type": "code",
   "execution_count": 17,
   "id": "1883f89f",
   "metadata": {},
   "outputs": [
    {
     "name": "stdout",
     "output_type": "stream",
     "text": [
      "1.0\n"
     ]
    }
   ],
   "source": [
    "preds = model.predict(train_x)\n",
    "print(np.sum(preds == train_y) / train_x.shape[1])"
   ]
  },
  {
   "cell_type": "code",
   "execution_count": 18,
   "id": "6dde084a",
   "metadata": {},
   "outputs": [
    {
     "name": "stdout",
     "output_type": "stream",
     "text": [
      "0.72\n"
     ]
    }
   ],
   "source": [
    "preds = model.predict(test_x)\n",
    "print(np.sum(preds == test_y) / test_x.shape[1])"
   ]
  },
  {
   "cell_type": "markdown",
   "id": "e7756f8a",
   "metadata": {},
   "source": [
    "Optimum value of layers is $4$, because $1$-layer NN needs more complexity and therefore overfits training data, wherease $5$-layer NN is too comlex, overfitting traning set as well. Thus, we need some regularization term."
   ]
  },
  {
   "cell_type": "markdown",
   "id": "dfcaf1ec",
   "metadata": {},
   "source": [
    "### Adding regularization (4-layer NN)"
   ]
  },
  {
   "cell_type": "markdown",
   "id": "93e1092c",
   "metadata": {},
   "source": [
    "#### L2, lambda = 0.1"
   ]
  },
  {
   "cell_type": "code",
   "execution_count": 19,
   "id": "8dcd122b",
   "metadata": {},
   "outputs": [
    {
     "name": "stdout",
     "output_type": "stream",
     "text": [
      "Cost after iteration 0: 0.806931019911478\n",
      "Cost after iteration 100: 0.7080584800755793\n",
      "Cost after iteration 200: 0.6835936213182183\n",
      "Cost after iteration 300: 0.6442647452328795\n",
      "Cost after iteration 400: 0.6268755972458203\n",
      "Cost after iteration 500: 0.5703271608282582\n",
      "Cost after iteration 600: 0.5228188601732591\n",
      "Cost after iteration 700: 0.5340314528773996\n",
      "Cost after iteration 800: 0.42023176200445994\n",
      "Cost after iteration 900: 0.38499096740870103\n",
      "Cost after iteration 1000: 0.330698136818209\n",
      "Cost after iteration 1100: 0.29388832824653804\n",
      "Cost after iteration 1200: 0.2646349283136061\n",
      "Cost after iteration 1300: 0.2400655608585576\n",
      "Cost after iteration 1400: 0.21888082542736295\n",
      "Cost after iteration 1500: 0.2012431787004738\n",
      "Cost after iteration 1600: 0.19014494629010487\n",
      "Cost after iteration 1700: 0.17962483953352848\n",
      "Cost after iteration 1800: 0.17063193384811257\n",
      "Cost after iteration 1900: 0.16291434484566703\n",
      "Cost after iteration 2000: 0.15765384166160334\n",
      "Cost after iteration 2100: 0.15380489993552324\n",
      "Cost after iteration 2200: 0.14775591768274574\n",
      "Cost after iteration 2300: 0.1397337002218622\n",
      "Cost after iteration 2400: 0.1355807124007707\n",
      "Cost after iteration 2499: 0.13162297196509593\n"
     ]
    },
    {
     "data": {
      "image/png": "[encoded data removed]",
      "text/plain": [
       "<Figure size 432x288 with 1 Axes>"
      ]
     },
     "metadata": {
      "needs_background": "light"
     },
     "output_type": "display_data"
    }
   ],
   "source": [
    "model = nn_model(layer_sizes=[12288, 20, 7, 5, 1], learning_rate=0.0075, n_epochs=2500, lambd=0.1, regularization='l2')\n",
    "model.fit(train_x, train_y)\n",
    "plot_costs(model.costs, model.learning_rate_)"
   ]
  },
  {
   "cell_type": "code",
   "execution_count": 20,
   "id": "28b0623c",
   "metadata": {},
   "outputs": [
    {
     "name": "stdout",
     "output_type": "stream",
     "text": [
      "0.9856459330143541\n"
     ]
    }
   ],
   "source": [
    "preds = model.predict(train_x)\n",
    "print(np.sum(preds == train_y) / train_x.shape[1])"
   ]
  },
  {
   "cell_type": "code",
   "execution_count": 21,
   "id": "8614723c",
   "metadata": {},
   "outputs": [
    {
     "name": "stdout",
     "output_type": "stream",
     "text": [
      "0.82\n"
     ]
    }
   ],
   "source": [
    "preds = model.predict(test_x)\n",
    "print(np.sum(preds == test_y) / test_x.shape[1])"
   ]
  },
  {
   "cell_type": "markdown",
   "id": "2b2c255a",
   "metadata": {},
   "source": [
    "#### L1, lambda = 0.01"
   ]
  },
  {
   "cell_type": "code",
   "execution_count": 22,
   "id": "b01789cf",
   "metadata": {},
   "outputs": [
    {
     "name": "stdout",
     "output_type": "stream",
     "text": [
      "Cost after iteration 0: 2.502592318148079\n",
      "Cost after iteration 100: 2.35990770526255\n",
      "Cost after iteration 200: 2.29257454850172\n",
      "Cost after iteration 300: 2.2263460262342156\n",
      "Cost after iteration 400: 2.179495313842696\n",
      "Cost after iteration 500: 2.0764735017041636\n",
      "Cost after iteration 600: 1.9882962966274889\n",
      "Cost after iteration 700: 1.973954447439478\n",
      "Cost after iteration 800: 1.8246731333202402\n",
      "Cost after iteration 900: 1.7817766837554607\n",
      "Cost after iteration 1000: 1.7093873308421579\n",
      "Cost after iteration 1100: 1.6564633634473473\n",
      "Cost after iteration 1200: 1.6004953414406418\n",
      "Cost after iteration 1300: 1.539833292450659\n",
      "Cost after iteration 1400: 1.4997224582107505\n",
      "Cost after iteration 1500: 1.4369319997857348\n",
      "Cost after iteration 1600: 1.4987510816091327\n",
      "Cost after iteration 1700: 1.351657555228253\n",
      "Cost after iteration 1800: 1.311526117395804\n",
      "Cost after iteration 1900: 1.2731188585161404\n",
      "Cost after iteration 2000: 1.2419300853822663\n",
      "Cost after iteration 2100: 1.2003733686345628\n",
      "Cost after iteration 2200: 1.1672958939892673\n",
      "Cost after iteration 2300: 1.1386613743942169\n",
      "Cost after iteration 2400: 1.7541757484121807\n",
      "Cost after iteration 2500: 1.706284191280063\n",
      "Cost after iteration 2600: 1.6590150706952747\n",
      "Cost after iteration 2700: 1.6072207308731739\n",
      "Cost after iteration 2800: 1.544480207380741\n",
      "Cost after iteration 2900: 1.4658239691164836\n",
      "Cost after iteration 3000: 1.3736179328482185\n",
      "Cost after iteration 3100: 1.3545760222913223\n",
      "Cost after iteration 3200: 1.3371349677405158\n",
      "Cost after iteration 3300: 1.2247677153296064\n",
      "Cost after iteration 3400: 1.1763851732186996\n",
      "Cost after iteration 3500: 1.1626972815392256\n",
      "Cost after iteration 3600: 1.0797000996261343\n",
      "Cost after iteration 3700: 0.9550744284078702\n",
      "Cost after iteration 3800: 0.9183171329588574\n",
      "Cost after iteration 3900: 0.8812315737391918\n",
      "Cost after iteration 4000: 0.8519863314587703\n",
      "Cost after iteration 4100: 0.8245977606214075\n",
      "Cost after iteration 4200: 0.7992243048577198\n",
      "Cost after iteration 4300: 0.7752935840693\n",
      "Cost after iteration 4400: 0.752486758632904\n",
      "Cost after iteration 4499: 0.731052476465577\n"
     ]
    },
    {
     "data": {
      "image/png": "[encoded data removed]",
      "text/plain": [
       "<Figure size 432x288 with 1 Axes>"
      ]
     },
     "metadata": {
      "needs_background": "light"
     },
     "output_type": "display_data"
    }
   ],
   "source": [
    "model = nn_model(layer_sizes=[12288, 20, 7, 5, 1], learning_rate=0.0075, n_epochs=4500, lambd=0.1, regularization='l1')\n",
    "model.fit(train_x, train_y)\n",
    "plot_costs(model.costs, model.learning_rate_)"
   ]
  },
  {
   "cell_type": "code",
   "execution_count": 23,
   "id": "882346b3",
   "metadata": {},
   "outputs": [
    {
     "name": "stdout",
     "output_type": "stream",
     "text": [
      "1.0\n"
     ]
    }
   ],
   "source": [
    "preds = model.predict(train_x)\n",
    "print(np.sum(preds == train_y) / train_x.shape[1])"
   ]
  },
  {
   "cell_type": "code",
   "execution_count": 24,
   "id": "676d8d7e",
   "metadata": {},
   "outputs": [
    {
     "name": "stdout",
     "output_type": "stream",
     "text": [
      "0.76\n"
     ]
    }
   ],
   "source": [
    "preds = model.predict(test_x)\n",
    "print(np.sum(preds == test_y) / test_x.shape[1])"
   ]
  },
  {
   "cell_type": "markdown",
   "id": "845c41bc",
   "metadata": {},
   "source": [
    "#### Dropout"
   ]
  },
  {
   "cell_type": "code",
   "execution_count": 25,
   "id": "4466362f",
   "metadata": {},
   "outputs": [
    {
     "name": "stdout",
     "output_type": "stream",
     "text": [
      "Cost after iteration 0: 0.7796359141247559\n",
      "Cost after iteration 100: 0.6761015425900349\n",
      "Cost after iteration 200: 0.655625720310114\n",
      "Cost after iteration 300: 0.6257827328502236\n",
      "Cost after iteration 400: 0.6010395403418035\n",
      "Cost after iteration 500: 0.5495514707185977\n",
      "Cost after iteration 600: 0.49339151915340695\n",
      "Cost after iteration 700: 0.4462236925471753\n",
      "Cost after iteration 800: 0.4311637615148637\n",
      "Cost after iteration 900: 0.4013461064943153\n",
      "Cost after iteration 1000: 0.3252392771997505\n",
      "Cost after iteration 1100: 0.31083037068177294\n",
      "Cost after iteration 1200: 0.30582425084304204\n",
      "Cost after iteration 1300: 0.2708018760851602\n",
      "Cost after iteration 1400: 0.2431350133632325\n",
      "Cost after iteration 1500: 0.2245590002543081\n",
      "Cost after iteration 1600: 0.2060190013785344\n",
      "Cost after iteration 1700: 0.16939953480562767\n",
      "Cost after iteration 1800: 0.19759871033318513\n",
      "Cost after iteration 1900: 0.18606783915816869\n",
      "Cost after iteration 2000: 0.15093775626355335\n",
      "Cost after iteration 2100: 0.16052609050809272\n",
      "Cost after iteration 2200: 0.1337232158471725\n",
      "Cost after iteration 2300: 0.11118716883552686\n",
      "Cost after iteration 2400: 0.11924524767646362\n",
      "Cost after iteration 2499: 0.1279622579797278\n"
     ]
    },
    {
     "data": {
      "image/png": "[encoded data removed]",
      "text/plain": [
       "<Figure size 432x288 with 1 Axes>"
      ]
     },
     "metadata": {
      "needs_background": "light"
     },
     "output_type": "display_data"
    }
   ],
   "source": [
    "model = nn_model(layer_sizes=[12288, 20, 7, 5, 1], learning_rate=0.0075, n_epochs=2500, keep_prob=0.9, \n",
    "                 regularization='dropout')\n",
    "model.fit(train_x, train_y)\n",
    "plot_costs(model.costs, model.learning_rate_)"
   ]
  },
  {
   "cell_type": "code",
   "execution_count": 26,
   "id": "2780af71",
   "metadata": {},
   "outputs": [
    {
     "name": "stdout",
     "output_type": "stream",
     "text": [
      "1.0\n"
     ]
    }
   ],
   "source": [
    "preds = model.predict(train_x)\n",
    "print(np.sum(preds == train_y) / train_x.shape[1])"
   ]
  },
  {
   "cell_type": "code",
   "execution_count": 27,
   "id": "a07db053",
   "metadata": {},
   "outputs": [
    {
     "name": "stdout",
     "output_type": "stream",
     "text": [
      "0.78\n"
     ]
    }
   ],
   "source": [
    "preds = model.predict(test_x)\n",
    "print(np.sum(preds == test_y) / test_x.shape[1])"
   ]
  }
 ],
 "metadata": {
  "kernelspec": {
   "display_name": "Python 3 (ipykernel)",
   "language": "python",
   "name": "python3"
  },
  "language_info": {
   "codemirror_mode": {
    "name": "ipython",
    "version": 3
   },
   "file_extension": ".py",
   "mimetype": "text/x-python",
   "name": "python",
   "nbconvert_exporter": "python",
   "pygments_lexer": "ipython3",
   "version": "3.9.13"
  }
 },
 "nbformat": 4,
 "nbformat_minor": 5
}

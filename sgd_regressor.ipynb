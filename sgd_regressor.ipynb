{
 "cells": [
  {
   "cell_type": "markdown",
   "id": "35360cf4",
   "metadata": {},
   "source": [
    "## SGD regressor"
   ]
  },
  {
   "cell_type": "code",
   "execution_count": 1,
   "id": "b041db24",
   "metadata": {},
   "outputs": [],
   "source": [
    "import numpy as np\n",
    "import pandas as pd\n",
    "from sklearn.base import BaseEstimator\n",
    "from sklearn.metrics import log_loss, mean_squared_error, roc_auc_score\n",
    "from sklearn.model_selection import train_test_split\n",
    "from tqdm import tqdm\n",
    "\n",
    "from matplotlib import pyplot as plt\n",
    "import seaborn as sns\n",
    "from sklearn.preprocessing import StandardScaler"
   ]
  },
  {
   "cell_type": "code",
   "execution_count": 2,
   "id": "1aca54bd",
   "metadata": {},
   "outputs": [],
   "source": [
    "class SGDRegressor(BaseEstimator):\n",
    "    def __init__(self, eta=1e-2, n_epochs=3000):\n",
    "        self.eta = eta\n",
    "        self.n_epochs = n_epochs\n",
    "        self.mse_ = []\n",
    "        self.weights_ = []\n",
    "        \n",
    "    \n",
    "    def fit(self, X, y):\n",
    "        # X.shape is (n_rows, n_cols) == (n_samples, n_features)\n",
    "        X_t = np.hstack([np.ones(shape=(X.shape[0], 1)), X])\n",
    "        w = np.zeros(shape=X_t.shape[1])\n",
    "        \n",
    "        # each iteration is weights update\n",
    "        for iteration in range(self.n_epochs):\n",
    "            \n",
    "            # random row for learning at this iteration\n",
    "            i = np.random.randint(low=0, high=X_t.shape[0])\n",
    "            \n",
    "            new_w = w.copy()\n",
    "            new_w[0] += self.eta * (y[i] - w.dot(X_t[i, :]))\n",
    "            \n",
    "            for j in range(1, X_t.shape[1]):\n",
    "                new_w[j] += self.eta * (y[i] - w.dot(X_t[i, :])) * X_t[i, j]\n",
    "                \n",
    "            w = new_w.copy()\n",
    "            \n",
    "            self.weights_.append(w)\n",
    "            self.mse_.append(sum([diff**2 for diff in (y - X_t.dot(w))]) / len(X_t))\n",
    "            \n",
    "        self.w_ = self.weights_[np.argmin(self.mse_)]\n",
    "        \n",
    "        return self\n",
    "    \n",
    "    def predict(self, X):\n",
    "        X_t = np.hstack([np.ones(shape=(X.shape[0], 1)), X])\n",
    "        \n",
    "        return X_t.dot(self.w_)"
   ]
  },
  {
   "cell_type": "code",
   "execution_count": 3,
   "id": "d5b570b8",
   "metadata": {},
   "outputs": [],
   "source": [
    "DATA_PATH = \"https://raw.githubusercontent.com/Yorko/mlcourse.ai/main/data/\""
   ]
  },
  {
   "cell_type": "code",
   "execution_count": 4,
   "id": "86210d56",
   "metadata": {},
   "outputs": [],
   "source": [
    "data_demo = pd.read_csv(DATA_PATH + \"weights_heights.csv\")"
   ]
  },
  {
   "cell_type": "code",
   "execution_count": 5,
   "id": "53b99b91",
   "metadata": {},
   "outputs": [
    {
     "data": {
      "image/png": "[encoded data removed]",
      "text/plain": [
       "<Figure size 432x288 with 1 Axes>"
      ]
     },
     "metadata": {
      "needs_background": "light"
     },
     "output_type": "display_data"
    }
   ],
   "source": [
    "plt.scatter(data_demo[\"Weight\"], data_demo[\"Height\"])\n",
    "plt.xlabel(\"Weight (lbs)\")\n",
    "plt.ylabel(\"Height (Inch)\")\n",
    "plt.grid();"
   ]
  },
  {
   "cell_type": "code",
   "execution_count": 6,
   "id": "8edd0d44",
   "metadata": {},
   "outputs": [],
   "source": [
    "X, y = data_demo[\"Weight\"].values, data_demo[\"Height\"].values"
   ]
  },
  {
   "cell_type": "code",
   "execution_count": 7,
   "id": "5c1ec44f",
   "metadata": {},
   "outputs": [],
   "source": [
    "X_train, X_test, y_train, y_test = train_test_split(\n",
    "    X, y, test_size=0.3, random_state=17\n",
    ")"
   ]
  },
  {
   "cell_type": "code",
   "execution_count": 8,
   "id": "64c21a9a",
   "metadata": {},
   "outputs": [],
   "source": [
    "scaler = StandardScaler()\n",
    "X_train_scaled = scaler.fit_transform(X_train.reshape(-1, 1))\n",
    "X_test_scaled = scaler.transform(X_test.reshape(-1, 1))"
   ]
  },
  {
   "cell_type": "code",
   "execution_count": 9,
   "id": "821b0ae9",
   "metadata": {},
   "outputs": [
    {
     "data": {
      "text/plain": [
       "SGDRegressor()"
      ]
     },
     "execution_count": 9,
     "metadata": {},
     "output_type": "execute_result"
    }
   ],
   "source": [
    "sgd_reg = SGDRegressor()\n",
    "sgd_reg.fit(X_train_scaled, y_train)"
   ]
  },
  {
   "cell_type": "code",
   "execution_count": 10,
   "id": "c8900513",
   "metadata": {},
   "outputs": [
    {
     "data": {
      "image/png": "[encoded data removed]",
      "text/plain": [
       "<Figure size 432x288 with 1 Axes>"
      ]
     },
     "metadata": {
      "needs_background": "light"
     },
     "output_type": "display_data"
    }
   ],
   "source": [
    "plt.plot(range(len(sgd_reg.mse_)), sgd_reg.mse_)\n",
    "plt.xlabel(\"# iterations\")\n",
    "plt.ylabel(\"MSE\");"
   ]
  },
  {
   "cell_type": "code",
   "execution_count": 11,
   "id": "b148532f",
   "metadata": {},
   "outputs": [
    {
     "data": {
      "text/plain": [
       "(2.7151458840249343, array([67.98712348,  0.94801227]))"
      ]
     },
     "execution_count": 11,
     "metadata": {},
     "output_type": "execute_result"
    }
   ],
   "source": [
    "np.min(sgd_reg.mse_), sgd_reg.w_"
   ]
  },
  {
   "cell_type": "code",
   "execution_count": 12,
   "id": "2cdb2983",
   "metadata": {},
   "outputs": [
    {
     "data": {
      "image/png": "[encoded data removed]",
      "text/plain": [
       "<Figure size 432x288 with 2 Axes>"
      ]
     },
     "metadata": {
      "needs_background": "light"
     },
     "output_type": "display_data"
    }
   ],
   "source": [
    "plt.subplot(121)\n",
    "plt.plot(range(len(sgd_reg.weights_)), [w[0] for w in sgd_reg.weights_])\n",
    "plt.subplot(122)\n",
    "plt.plot(range(len(sgd_reg.weights_)), [w[1] for w in sgd_reg.weights_]);"
   ]
  },
  {
   "cell_type": "code",
   "execution_count": 13,
   "id": "9df63174",
   "metadata": {},
   "outputs": [
    {
     "data": {
      "text/plain": [
       "2.67073289805628"
      ]
     },
     "execution_count": 13,
     "metadata": {},
     "output_type": "execute_result"
    }
   ],
   "source": [
    "sgd_test_mse = mean_squared_error(y_test, sgd_reg.predict(X_test_scaled))\n",
    "sgd_test_mse"
   ]
  },
  {
   "cell_type": "code",
   "execution_count": 14,
   "id": "aaf0867e",
   "metadata": {},
   "outputs": [
    {
     "name": "stdout",
     "output_type": "stream",
     "text": [
      "[0.94537278] 67.98930834742858\n"
     ]
    },
    {
     "data": {
      "text/plain": [
       "2.670830767667635"
      ]
     },
     "execution_count": 14,
     "metadata": {},
     "output_type": "execute_result"
    }
   ],
   "source": [
    "from sklearn.linear_model import LinearRegression\n",
    "\n",
    "lm = LinearRegression().fit(X_train_scaled, y_train)\n",
    "print(lm.coef_, lm.intercept_)\n",
    "linreg_test_mse = mean_squared_error(y_test, lm.predict(X_test_scaled))\n",
    "linreg_test_mse"
   ]
  },
  {
   "cell_type": "code",
   "execution_count": 15,
   "id": "49866669",
   "metadata": {},
   "outputs": [
    {
     "name": "stdout",
     "output_type": "stream",
     "text": [
      "Correct!\n"
     ]
    }
   ],
   "source": [
    "try:\n",
    "    assert (sgd_test_mse - linreg_test_mse) < 1e-4\n",
    "    print(\"Correct!\")\n",
    "except AssertionError:\n",
    "    print(\n",
    "        \"Not correct.\\n Linreg's test MSE: {}\"\n",
    "        \"\\n SGD's test MSE: {}\".format(linreg_test_mse, sgd_test_mse)\n",
    "    )"
   ]
  }
 ],
 "metadata": {
  "kernelspec": {
   "display_name": "Python 3 (ipykernel)",
   "language": "python",
   "name": "python3"
  },
  "language_info": {
   "codemirror_mode": {
    "name": "ipython",
    "version": 3
   },
   "file_extension": ".py",
   "mimetype": "text/x-python",
   "name": "python",
   "nbconvert_exporter": "python",
   "pygments_lexer": "ipython3",
   "version": "3.9.13"
  }
 },
 "nbformat": 4,
 "nbformat_minor": 5
}
